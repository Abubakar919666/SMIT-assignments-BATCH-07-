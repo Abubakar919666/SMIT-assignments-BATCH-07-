{
 "cells": [
  {
   "cell_type": "code",
   "execution_count": null,
   "metadata": {},
   "outputs": [],
   "source": [
    "import random\n",
    "\n",
    "print(\"Welcome tp the Guess My Number Game.\")\n",
    "imagined_number = random.randint(1,5)\n",
    "print(imagined_number)\n",
    "users_number = 0\n",
    "\n",
    "while users_number != imagined_number:\n",
    "   users_number = int(input(\"Guess a number between 1 and 5: \"))\n",
    "\n",
    "print(\"Congrats! You guessed the number, it was \", users_number)        "
   ]
  },
  {
   "cell_type": "code",
   "execution_count": null,
   "metadata": {},
   "outputs": [],
   "source": [
    "import random\n",
    "print(\"Size konsa chahye antii apko \")\n",
    "imagined_num = random.randint(20, 30)\n",
    "print(imagined_num)\n",
    "user_number = 0\n",
    "\n",
    "while users_number != imagined_num:\n",
    "   users_number = int(input(\"anti apka size buhat bara he agar bachi ke liye chahye to hoga hamre pas \"))\n",
    "\n",
    "print(\"mubarak ho size mill gya \", users_number)"
   ]
  },
  {
   "cell_type": "code",
   "execution_count": null,
   "metadata": {},
   "outputs": [],
   "source": [
    "password = input(\"Enter the password: \")\n",
    "attempts = 1\n",
    "\n",
    "while (password != \"letmein\") and (attempts <=3):\n",
    "   password = input(\"Incorrect. Try again: \")\n",
    "   attempts +=1\n",
    "if password == \"letmein\":\n",
    "   print(\"Access Granted. End of program.\")\n",
    "else:\n",
    "   print(\"too many attempts! Bye.\")"
   ]
  }
 ],
 "metadata": {
  "language_info": {
   "name": "python"
  }
 },
 "nbformat": 4,
 "nbformat_minor": 2
}
