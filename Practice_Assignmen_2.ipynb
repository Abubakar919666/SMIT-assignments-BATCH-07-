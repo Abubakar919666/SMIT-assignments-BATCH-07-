{
 "cells": [
  {
   "cell_type": "markdown",
   "metadata": {},
   "source": [
    "## 1) Area of a Rectangle:  \n"
   ]
  },
  {
   "cell_type": "markdown",
   "metadata": {},
   "source": [
    "Write a Python program to calculate the area of a rectangle. Use the formula: \n",
    "𝐴𝒓𝒆𝒂 = 𝒍𝒆𝒏𝒈𝒕𝒉 × 𝒘𝒊𝒅𝒕𝒉\n",
    "Take length and width as inputs from the user"
   ]
  },
  {
   "cell_type": "code",
   "execution_count": 3,
   "metadata": {},
   "outputs": [
    {
     "name": "stdout",
     "output_type": "stream",
     "text": [
      "The area of a rectangle 99\n"
     ]
    }
   ],
   "source": [
    "length_of_rectangle = int(input(\"Please tell me the length of a tringle\"))\n",
    "width_of_rectangle = int(input(\"Please tell me the width of a tringle\"))\n",
    "Area_of_rectangle = length_of_rectangle * width_of_rectangle\n",
    "print(f\"The area of a rectangle {Area_of_rectangle}\")"
   ]
  },
  {
   "cell_type": "code",
   "execution_count": 1,
   "metadata": {},
   "outputs": [
    {
     "name": "stdout",
     "output_type": "stream",
     "text": [
      "The number is higher than zero\n"
     ]
    }
   ],
   "source": [
    "num = int(input(\"Enter a number\"))\n",
    "if num > 0:\n",
    "  print(\"The number is higher than zero\")\n",
    "elif num > 100:\n",
    "  print(\"Number is higher than zero\")\n",
    "elif num % 2:\n",
    "  print(\"the number is even number\")\n",
    "else:\n",
    "  print(\"you entered negative number\")"
   ]
  },
  {
   "cell_type": "code",
   "execution_count": 13,
   "metadata": {},
   "outputs": [
    {
     "name": "stdout",
     "output_type": "stream",
     "text": [
      "Party seeen on he boss\n"
     ]
    }
   ],
   "source": [
    "password = input(\"Please enter your password\")\n",
    "attempt = 1\n",
    "while (password != \"partyseen\") and (attempt <= 2):\n",
    "   password =  input(\"not allowed to enter: please try again\")\n",
    "   attempt +=1\n",
    "\n",
    "\n",
    "if password == \"partyseen\":\n",
    "   print(\"Party seeen on he boss\")\n",
    "else: \n",
    "   print(\"beta tumhare abu ijjazat nhi dengy\")"
   ]
  },
  {
   "cell_type": "code",
   "execution_count": null,
   "metadata": {},
   "outputs": [],
   "source": [
    "password = input(\"Enter the password: \")\n",
    "attempts = 1\n",
    "\n",
    "while (password != \"letmein\") and (attempts <=3):\n",
    "   password = input(\"Incorrect. Try again: \")\n",
    "   attempts +=1\n",
    "if password == \"letmein\":\n",
    "   print(\"Access Granted. End of program.\")\n",
    "else:\n",
    "   print(\"too many attempts! Bye.\")"
   ]
  },
  {
   "cell_type": "code",
   "execution_count": null,
   "metadata": {},
   "outputs": [],
   "source": [
    "import random\n",
    "print(\"Size konsa chahye antii apko \")\n",
    "imagined_num = random.randint(20, 30)\n",
    "print(imagined_num)\n",
    "user_number = 0\n",
    "\n",
    "while users_number != imagined_num:\n",
    "   users_number = int(input(\"anti apka size buhat bara he agar bachi ke liye chahye to hoga hamre pas \"))\n",
    "\n",
    "print(\"mubarak ho size mill gya \", users_number)"
   ]
  },
  {
   "cell_type": "code",
   "execution_count": null,
   "metadata": {},
   "outputs": [],
   "source": [
    "import random\n",
    "\n",
    "print(\"Welcome tp the Guess My Number Game.\")\n",
    "imagined_number = random.randint(1,5)\n",
    "print(imagined_number)\n",
    "users_number = 0\n",
    "\n",
    "while users_number != imagined_number:\n",
    "   users_number = int(input(\"Guess a number between 1 and 5: \"))\n",
    "\n",
    "print(\"Congrats! You guessed the number, it was \", users_number)"
   ]
  }
 ],
 "metadata": {
  "kernelspec": {
   "display_name": "base",
   "language": "python",
   "name": "python3"
  },
  "language_info": {
   "codemirror_mode": {
    "name": "ipython",
    "version": 3
   },
   "file_extension": ".py",
   "mimetype": "text/x-python",
   "name": "python",
   "nbconvert_exporter": "python",
   "pygments_lexer": "ipython3",
   "version": "3.12.7"
  }
 },
 "nbformat": 4,
 "nbformat_minor": 2
}
