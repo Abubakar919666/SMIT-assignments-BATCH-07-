{
 "cells": [
  {
   "cell_type": "markdown",
   "metadata": {},
   "source": [
    "## 1) Area of a Rectangle:  \n"
   ]
  },
  {
   "cell_type": "markdown",
   "metadata": {},
   "source": [
    "Write a Python program to calculate the area of a rectangle. Use the formula:\n",
    "\n",
    "`Area = length × width`\n",
    "\n",
    "Take `length` and `width` as inputs from the user."
   ]
  },
  {
   "cell_type": "code",
   "execution_count": 3,
   "metadata": {},
   "outputs": [
    {
     "name": "stdout",
     "output_type": "stream",
     "text": [
      "The area of a rectangle 99\n"
     ]
    }
   ],
   "source": [
    "length_of_rectangle = int(input(\"Please tell me the length of a tringle\"))\n",
    "width_of_rectangle = int(input(\"Please tell me the width of a tringle\"))\n",
    "Area_of_rectangle = length_of_rectangle * width_of_rectangle\n",
    "print(f\"The area of a rectangle {Area_of_rectangle}\")"
   ]
  },
  {
   "cell_type": "markdown",
   "metadata": {},
   "source": [
    "## 2) Circumference of a Circle:\n",
    "\n",
    "Write a Python program to calculate the circumference of a circle. Use the formula:\n",
    "\n",
    "`Circumference = 2πr`\n",
    "\n",
    "Take the radius `r` as input from the user."
   ]
  },
  {
   "cell_type": "code",
   "execution_count": 2,
   "metadata": {},
   "outputs": [
    {
     "name": "stdout",
     "output_type": "stream",
     "text": [
      "Circumference = 87.976\n"
     ]
    }
   ],
   "source": [
    "radius=float(input(\"Write the radius of a cicle\"))\n",
    "circumference=2*3.142*radius\n",
    "print(\"Circumference =\",round(circumference,3))\n"
   ]
  },
  {
   "cell_type": "markdown",
   "metadata": {},
   "source": [
    "## 3) Simple Interest :\n",
    "\n",
    "Write a Python program to calculate the simple interest. Use the formula:\n",
    "\n",
    "`Simple Interest = Principal × Rate × Time`\n",
    "\n",
    "Take `Principal`, `Rate`, and `Time` as inputs from the user."
   ]
  },
  {
   "cell_type": "code",
   "execution_count": 4,
   "metadata": {},
   "outputs": [
    {
     "name": "stdout",
     "output_type": "stream",
     "text": [
      "Simple Interest = Rs 120000000.0\n"
     ]
    }
   ],
   "source": [
    "Principal=float(input(\"Type your Principal Amount\"))\n",
    "Rate=float(input(\"Type Rate of interest \"))\n",
    "Time=float(input(\"Type the Amount of Time you invested\"))\n",
    "Simple_Interest = Principal*Rate*Time\n",
    "print(\"Simple Interest = Rs\", Simple_Interest)"
   ]
  },
  {
   "cell_type": "markdown",
   "metadata": {},
   "source": [
    "## 4) Speed of an Object :\n",
    "\n",
    "Write a Python program to calculate the speed of an object. Use the formula:\n",
    "\n",
    "`Speed = Distance / Time`\n",
    "\n",
    "Take `Distance` and `Time` as inputs from the user."
   ]
  },
  {
   "cell_type": "code",
   "execution_count": 5,
   "metadata": {},
   "outputs": [
    {
     "name": "stdout",
     "output_type": "stream",
     "text": [
      "The speed of the object is: 100.00 m/s\n"
     ]
    }
   ],
   "source": [
    "distance = float(input(\"Enter the distance covered (in meters): \"))\n",
    "time = float(input(\"Enter the time taken (in seconds): \"))\n",
    "speed = distance / time\n",
    "print(f\"The speed of the object is: {speed:.2f} m/s\")"
   ]
  },
  {
   "cell_type": "markdown",
   "metadata": {},
   "source": [
    "## 5) BMI Calculator :\n",
    "\n",
    "Write a Python program to calculate the Body Mass Index (BMI). Use the formula:\n",
    "\n",
    "`BMI = Weight (kg) / (Height (m))²`\n",
    "\n",
    "Take `Weight` (in kilograms) and `Height` (in meters) as inputs from the user."
   ]
  },
  {
   "cell_type": "code",
   "execution_count": 6,
   "metadata": {},
   "outputs": [
    {
     "name": "stdout",
     "output_type": "stream",
     "text": [
      "Your BMI is: 0.02\n"
     ]
    }
   ],
   "source": [
    "weight = float(input(\"Enter your weight (in kg): \"))\n",
    "height = float(input(\"Enter your height (in meters): \"))\n",
    "bmi = weight / (height ** 2)\n",
    "\n",
    "print(f\"Your BMI is: {bmi:.2f}\")"
   ]
  },
  {
   "cell_type": "markdown",
   "metadata": {},
   "source": [
    "## 6) Force Using Newton's Second Law :\n",
    "\n",
    "Write a Python program to calculate the force on an object. Use the formula:\n",
    "\n",
    "`Force = Mass × Acceleration`\n",
    "\n",
    "Take `Mass` (in kilograms) and `Acceleration` (in meters/second²) as inputs from the user."
   ]
  },
  {
   "cell_type": "code",
   "execution_count": 7,
   "metadata": {},
   "outputs": [
    {
     "name": "stdout",
     "output_type": "stream",
     "text": [
      "The force on the object is: 121.00 N\n"
     ]
    }
   ],
   "source": [
    "mass = float(input(\"Enter the mass of the object (in kg): \"))\n",
    "acceleration = float(input(\"Enter the acceleration (in m/s²): \"))\n",
    "force = mass * acceleration\n",
    "print(f\"The force on the object is: {force:.2f} N\")\n"
   ]
  },
  {
   "cell_type": "markdown",
   "metadata": {},
   "source": [
    "## 7) Compound Interest :\n",
    "\n",
    "Write a Python program to calculate compound interest. Use the formula:\n",
    "\n",
    "`A = P (1 + r/n)^(n*t)`\n",
    "\n",
    "Where:\n",
    "- A = total amount\n",
    "- P = principal amount\n",
    "- r = annual interest rate (decimal)\n",
    "- n = number of times interest is compounded per year\n",
    "- t = time in years\n",
    "\n",
    "Take `P`, `r`, `n`, and `t` as inputs from the user."
   ]
  },
  {
   "cell_type": "code",
   "execution_count": 3,
   "metadata": {},
   "outputs": [
    {
     "name": "stdout",
     "output_type": "stream",
     "text": [
      "The Total amount in 2.0 years with 30.0 % of Annaual Interest is Rs 8857.81\n"
     ]
    }
   ],
   "source": [
    "p=float(input(\"Type your Principal Amount\"))\n",
    "r=float(input(\"annual interest rate (decimal) \"))/100\n",
    "t=float(input(\"Type for how many years you invested\"))\n",
    "n=float(input(\"How many times interest compounded Anually\"))\n",
    "Total_Amount = p*(1+(r/n))**(n*t)\n",
    "print(f\"The Total amount in {t} years with {r*100} % of Annaual Interest is Rs {Total_Amount:.2f}\")\n"
   ]
  },
  {
   "cell_type": "markdown",
   "metadata": {},
   "source": [
    "## 8) Perimeter of a Triangle :\n",
    "\n",
    "Write a Python program to calculate the perimeter of a triangle. Use the formula:\n",
    "\n",
    "`Perimeter = a + b + c`\n",
    "\n",
    "Take `a`, `b`, and `c` (lengths of the three sides) as inputs from the user."
   ]
  },
  {
   "cell_type": "code",
   "execution_count": 4,
   "metadata": {},
   "outputs": [
    {
     "name": "stdout",
     "output_type": "stream",
     "text": [
      "The perimeter of the triangle is: 130.00\n"
     ]
    }
   ],
   "source": [
    "a = float(input(\"Enter the length of side a: \"))\n",
    "b = float(input(\"Enter the length of side b: \"))\n",
    "c = float(input(\"Enter the length of side c: \"))\n",
    "perimeter = a + b + c\n",
    "print(f\"The perimeter of the triangle is: {perimeter:.2f}\")"
   ]
  },
  {
   "cell_type": "markdown",
   "metadata": {},
   "source": [
    "## 9) Volume of a Sphere :\n",
    "\n",
    "Write a Python program to calculate the volume of a sphere. Use the formula:\n",
    "\n",
    "`Volume = (4/3)πr³`\n",
    "\n",
    "Take `r` (radius) as input from the user."
   ]
  },
  {
   "cell_type": "code",
   "execution_count": 5,
   "metadata": {},
   "outputs": [
    {
     "name": "stdout",
     "output_type": "stream",
     "text": [
      "The volume of the sphere is: 33514.667 cm³\n"
     ]
    }
   ],
   "source": [
    "radius = float(input(\"Enter the radius of the sphere (in cm): \"))\n",
    "volume = (4 / 3) * 3.142 * (radius ** 3)\n",
    "print(f\"The volume of the sphere is: {volume:.3f} cm³\")"
   ]
  },
  {
   "cell_type": "markdown",
   "metadata": {},
   "source": [
    "## 10) Kinetic Energy :\n",
    "\n",
    "Write a Python program to calculate the kinetic energy of an object. Use the formula:\n",
    "\n",
    "`KE = (1/2)mv²`\n",
    "\n",
    "Take `Mass` (in kilograms) and `Velocity` (in meters/second) as inputs from the user."
   ]
  },
  {
   "cell_type": "code",
   "execution_count": 6,
   "metadata": {},
   "outputs": [
    {
     "name": "stdout",
     "output_type": "stream",
     "text": [
      "The kinetic energy of the object is: 4687.50 J\n"
     ]
    }
   ],
   "source": [
    "mass = float(input(\"Enter the mass of the object (in kg): \"))\n",
    "velocity = float(input(\"Enter the velocity of the object (in m/s): \"))\n",
    "kinetic_energy = 0.5 * mass * (velocity ** 2)\n",
    "print(f\"The kinetic energy of the object is: {kinetic_energy:.2f} J\")"
   ]
  },
  {
   "cell_type": "markdown",
   "metadata": {},
   "source": [
    "## 11) Quadratic Equation Roots :\n",
    "\n",
    "Write a Python program to find the roots of a quadratic equation. Use the formula:\n",
    "\n",
    "`X = (-b ± √(b² - 4ac)) / 2a`\n",
    "\n",
    "Take `a`, `b`, and `c` as inputs from the user."
   ]
  },
  {
   "cell_type": "code",
   "execution_count": 7,
   "metadata": {},
   "outputs": [
    {
     "name": "stdout",
     "output_type": "stream",
     "text": [
      " There are Two Roots of the Quadratic equation 4x^2 + 2x + 10 = 0  which is -4.00+24.98j and -4.00-24.98j\n"
     ]
    }
   ],
   "source": [
    "import cmath\n",
    "a=int(input(\"Write down the Coeffient of x^2\"))\n",
    "b=int(input(\"Write down the Coeffient of x\"))\n",
    "c=int(input(\"Write down the Constant  term \"))\n",
    "\n",
    "square = cmath.sqrt((b**2)-4*a*c)\n",
    "X1 = (-b + square)/2*a\n",
    "X2 = (-b - square)/2*a\n",
    "print(f\" There are Two Roots of the Quadratic equation {a}x^2 + {b}x + {c} = 0  which is {X1:.2f} and {X2:.2f}\")"
   ]
  },
  {
   "cell_type": "markdown",
   "metadata": {},
   "source": [
    "## 12) Temperature Conversion :\n",
    "\n",
    "Write a Python program to convert a temperature from Celsius to Fahrenheit. Use the formula:\n",
    "\n",
    "`F = (C × 9/5) + 32`\n",
    "\n",
    "Take `C` (temperature in Celsius) as input from the user."
   ]
  },
  {
   "cell_type": "code",
   "execution_count": 8,
   "metadata": {},
   "outputs": [
    {
     "name": "stdout",
     "output_type": "stream",
     "text": [
      "The temperature in Fahrenheit is: 86.00\n"
     ]
    }
   ],
   "source": [
    "celsius = float(input(\"Enter the temperature in Celsius: \"))\n",
    "fahrenheit = (celsius * 9 / 5) + 32\n",
    "print(f\"The temperature in Fahrenheit is: {fahrenheit:.2f}\")"
   ]
  },
  {
   "cell_type": "markdown",
   "metadata": {},
   "source": [
    "## 13) Gravitational Force :\n",
    "\n",
    "Write a Python program to calculate the gravitational force between two objects. Use the formula:\n",
    "\n",
    "`F = G(m₁ * m₂) / r²`\n",
    "\n",
    "Where:\n",
    "- G = gravitational constant\n",
    "- m₁, m₂ = masses of the objects\n",
    "- r = distance between their centers\n",
    "\n",
    "Take `m₁`, `m₂`, and `r` as inputs from the user."
   ]
  },
  {
   "cell_type": "code",
   "execution_count": 10,
   "metadata": {},
   "outputs": [
    {
     "name": "stdout",
     "output_type": "stream",
     "text": [
      "The gravitational force between the objects is: 6.67e-13 N\n"
     ]
    }
   ],
   "source": [
    "G = 6.674 * (10 ** -11)\n",
    "m1 = float(input(\"Enter the mass of the first object (in kg): \"))\n",
    "m2 = float(input(\"Enter the mass of the second object (in kg): \"))\n",
    "r = float(input(\"Enter the distance between the objects (in meters): \"))\n",
    "force = G * (m1 * m2) / (r ** 2)\n",
    "print(f\"The gravitational force between the objects is: {force:.2e} N\")"
   ]
  },
  {
   "cell_type": "markdown",
   "metadata": {},
   "source": [
    "## 14) Volume of a Cylinder :\n",
    "\n",
    "Write a Python program to calculate the volume of a cylinder. Use the formula:\n",
    "\n",
    "`Volume = πr²h`\n",
    "\n",
    "Take `r` (radius) and `h` (height) as inputs from the user."
   ]
  },
  {
   "cell_type": "code",
   "execution_count": 11,
   "metadata": {},
   "outputs": [
    {
     "name": "stdout",
     "output_type": "stream",
     "text": [
      "The volume of the cylinder is: 201.09 cm³\n"
     ]
    }
   ],
   "source": [
    "radius = float(input(\"Enter the radius of the cylinder (in cm): \"))\n",
    "height = float(input(\"Enter the height of the cylinder (in cm): \"))\n",
    "volume = 3.142 * (radius ** 2) * height\n",
    "print(f\"The volume of the cylinder is: {volume:.2f} cm³\")"
   ]
  },
  {
   "cell_type": "markdown",
   "metadata": {},
   "source": [
    "## 15) Pressure :\n",
    "\n",
    "Write a Python program to calculate the pressure exerted by a force on a surface. Use the formula:\n",
    "\n",
    "`P = F / A`\n",
    "\n",
    "Take `F` (force) and `A` (area) as inputs from the user."
   ]
  },
  {
   "cell_type": "code",
   "execution_count": 12,
   "metadata": {},
   "outputs": [
    {
     "name": "stdout",
     "output_type": "stream",
     "text": [
      "The pressure is: 1.00 Pa\n"
     ]
    }
   ],
   "source": [
    "force = float(input(\"Enter the force (in N): \"))\n",
    "area = float(input(\"Enter the area (in m²): \"))\n",
    "pressure = force / area\n",
    "print(f\"The pressure is: {pressure:.2f} Pa\")"
   ]
  },
  {
   "cell_type": "markdown",
   "metadata": {},
   "source": [
    "## 16) Electric Power :\n",
    "\n",
    "Write a Python program to calculate the electric power consumed. Use the formula:\n",
    "\n",
    "`Power = Voltage × Current`\n",
    "\n",
    "Take `Voltage` and `Current` as inputs from the user."
   ]
  },
  {
   "cell_type": "code",
   "execution_count": null,
   "metadata": {},
   "outputs": [
    {
     "name": "stdout",
     "output_type": "stream",
     "text": [
      "The electric power is: 45.00 W\n"
     ]
    }
   ],
   "source": [
    "voltage = float(input(\"Enter the voltage (in volts): \"))\n",
    "current = float(input(\"Enter the current (in amperes): \"))\n",
    "power = voltage * current\n",
    "print(f\"The electric power is: {power:.2f} W\")"
   ]
  },
  {
   "cell_type": "markdown",
   "metadata": {},
   "source": [
    "## 17) Perimeter of a Circle (Circumference) :\n",
    "\n",
    "Write a Python program to calculate the perimeter (circumference) of a circle. Use the formula:\n",
    "\n",
    "`Circumference = 2πr`\n",
    "\n",
    "Take `r` (radius) as input from the user."
   ]
  },
  {
   "cell_type": "code",
   "execution_count": 15,
   "metadata": {},
   "outputs": [
    {
     "name": "stdout",
     "output_type": "stream",
     "text": [
      "The circumference of the circle is: 251.360 cm\n"
     ]
    }
   ],
   "source": [
    "radius = float(input(\"Enter the radius of the circle (in cm): \"))\n",
    "circumference = 2 * 3.142 * radius\n",
    "print(f\"The circumference of the circle is: {circumference:.3f} cm\")"
   ]
  },
  {
   "cell_type": "markdown",
   "metadata": {},
   "source": [
    "## 18) Future Value in Savings :\n",
    "\n",
    "Write a Python program to calculate the future value of an investment. Use the formula:\n",
    "\n",
    "`FV = PV(1 + r)^t`\n",
    "\n",
    "Where:\n",
    "- FV = future value\n",
    "- PV = present value\n",
    "- r = annual interest rate (decimal)\n",
    "- t = time in years\n",
    "\n",
    "Take `PV`, `r`, and `t` as inputs from the user."
   ]
  },
  {
   "cell_type": "code",
   "execution_count": 16,
   "metadata": {},
   "outputs": [
    {
     "name": "stdout",
     "output_type": "stream",
     "text": [
      "The future value of the investment is: 5.51\n"
     ]
    }
   ],
   "source": [
    "present_value = float(input(\"Enter the present value of the investment: \"))\n",
    "rate = float(input(\"Enter the annual interest rate (in %): \")) / 100\n",
    "time = float(input(\"Enter the time (in years): \"))\n",
    "future_value = present_value * ((1 + rate) ** time)\n",
    "print(f\"The future value of the investment is: {future_value:.2f}\")"
   ]
  },
  {
   "cell_type": "markdown",
   "metadata": {},
   "source": [
    "## 19) Work Done by a Force :\n",
    "\n",
    "Write a Python program to calculate the work done by a force. Use the formula:\n",
    "\n",
    "`W = F × d × cos(θ)`\n",
    "\n",
    "Where:\n",
    "- W = work done\n",
    "- F = force\n",
    "- d = distance\n",
    "- θ = angle between force and movement (degrees)\n",
    "\n",
    "Take `F`, `d`, and `θ` as inputs from the user."
   ]
  },
  {
   "cell_type": "code",
   "execution_count": null,
   "metadata": {},
   "outputs": [
    {
     "name": "stdout",
     "output_type": "stream",
     "text": [
      "The amount of workdone occured is 771.35 Joules \n"
     ]
    }
   ],
   "source": [
    "import math\n",
    "F=float(input(\"Amount of Force apply (in newton)\"))\n",
    "d=float(input(\"The distance covered (in meters)\"))\n",
    "theta=float(input(\"The angle between Force and distance (in degree)\"))\n",
    "Workdone = F*d*math.cos(theta*(math.pi/180))\n",
    "print(f\"The amount of workdone occured is {Workdone:.2f} Joules \")"
   ]
  },
  {
   "cell_type": "markdown",
   "metadata": {},
   "source": [
    "## 20) Heat Transfer :\n",
    "\n",
    "Write a Python program to calculate the amount of heat transferred. Use the formula:\n",
    "\n",
    "`Q = mcΔT`\n",
    "\n",
    "Where:\n",
    "- Q = heat transfer\n",
    "- m = mass\n",
    "- c = specific heat capacity\n",
    "- ΔT = temperature change\n",
    "\n",
    "Take `m`, `c`, and `ΔT` as inputs from the user."
   ]
  },
  {
   "cell_type": "code",
   "execution_count": 19,
   "metadata": {},
   "outputs": [
    {
     "name": "stdout",
     "output_type": "stream",
     "text": [
      "The heat transferred is: 120.00 J\n"
     ]
    }
   ],
   "source": [
    "mass = float(input(\"Enter the mass of the object (in kg): \"))\n",
    "specific_heat = float(input(\"Enter the specific heat capacity (in J/kg°C): \"))\n",
    "temperature_change = float(input(\"Enter the temperature change (in °C): \"))\n",
    "heat_transfer = mass * specific_heat * temperature_change\n",
    "print(f\"The heat transferred is: {heat_transfer:.2f} J\")    "
   ]
  }
 ],
 "metadata": {
  "kernelspec": {
   "display_name": "Python 3",
   "language": "python",
   "name": "python3"
  },
  "language_info": {
   "codemirror_mode": {
    "name": "ipython",
    "version": 3
   },
   "file_extension": ".py",
   "mimetype": "text/x-python",
   "name": "python",
   "nbconvert_exporter": "python",
   "pygments_lexer": "ipython3",
   "version": "3.11.9"
  }
 },
 "nbformat": 4,
 "nbformat_minor": 2
}
