{
 "cells": [
  {
   "cell_type": "markdown",
   "metadata": {},
   "source": [
    "## 1) Area of a Rectangle:  \n"
   ]
  },
  {
   "cell_type": "markdown",
   "metadata": {},
   "source": [
    "Write a Python program to calculate the area of a rectangle. Use the formula:\n",
    "\n",
    "`Area = length × width`\n",
    "\n",
    "Take `length` and `width` as inputs from the user."
   ]
  },
  {
   "cell_type": "code",
   "execution_count": 3,
   "metadata": {},
   "outputs": [
    {
     "name": "stdout",
     "output_type": "stream",
     "text": [
      "The area of a rectangle 99\n"
     ]
    }
   ],
   "source": [
    "length_of_rectangle = int(input(\"Please tell me the length of a tringle\"))\n",
    "width_of_rectangle = int(input(\"Please tell me the width of a tringle\"))\n",
    "Area_of_rectangle = length_of_rectangle * width_of_rectangle\n",
    "print(f\"The area of a rectangle {Area_of_rectangle}\")"
   ]
  },
  {
   "cell_type": "markdown",
   "metadata": {},
   "source": [
    "## 2) Circumference of a Circle:\n",
    "\n",
    "Write a Python program to calculate the circumference of a circle. Use the formula:\n",
    "\n",
    "`Circumference = 2πr`\n",
    "\n",
    "Take the radius `r` as input from the user."
   ]
  },
  {
   "cell_type": "code",
   "execution_count": 2,
   "metadata": {},
   "outputs": [
    {
     "name": "stdout",
     "output_type": "stream",
     "text": [
      "Circumference = 87.976\n"
     ]
    }
   ],
   "source": [
    "radius=float(input(\"Write the radius of a cicle\"))\n",
    "circumference=2*3.142*radius\n",
    "print(\"Circumference =\",round(circumference,3))\n"
   ]
  },
  {
   "cell_type": "code",
   "execution_count": null,
   "metadata": {},
   "outputs": [],
   "source": []
  },
  {
   "cell_type": "code",
   "execution_count": null,
   "metadata": {},
   "outputs": [],
   "source": [
    "password = input(\"Please enter your password\")\n",
    "attempt = 1\n",
    "while (password != \"partyseen\") and (attempt <= 2):\n",
    "   password =  input(\"not allowed to enter: please try again\")\n",
    "   attempt +=1\n",
    "\n",
    "\n",
    "if password == \"partyseen\":\n",
    "   print(\"Party seeen on he boss\")\n",
    "else: \n",
    "   print(\"beta tumhare abu ijjazat nhi dengy\")"
   ]
  },
  {
   "cell_type": "code",
   "execution_count": null,
   "metadata": {},
   "outputs": [],
   "source": [
    "password = input(\"Enter the password: \")\n",
    "attempts = 1\n",
    "\n",
    "while (password != \"letmein\") and (attempts <=3):\n",
    "   password = input(\"Incorrect. Try again: \")\n",
    "   attempts +=1\n",
    "if password == \"letmein\":\n",
    "   print(\"Access Granted. End of program.\")\n",
    "else:\n",
    "   print(\"too many attempts! Bye.\")"
   ]
  },
  {
   "cell_type": "code",
   "execution_count": null,
   "metadata": {},
   "outputs": [],
   "source": [
    "import random\n",
    "print(\"Size konsa chahye antii apko \")\n",
    "imagined_num = random.randint(20, 30)\n",
    "print(imagined_num)\n",
    "user_number = 0\n",
    "\n",
    "while users_number != imagined_num:\n",
    "   users_number = int(input(\"anti apka size buhat bara he agar bachi ke liye chahye to hoga hamre pas \"))\n",
    "\n",
    "print(\"mubarak ho size mill gya \", users_number)"
   ]
  },
  {
   "cell_type": "code",
   "execution_count": null,
   "metadata": {},
   "outputs": [],
   "source": [
    "import random\n",
    "\n",
    "print(\"Welcome tp the Guess My Number Game.\")\n",
    "imagined_number = random.randint(1,5)\n",
    "print(imagined_number)\n",
    "users_number = 0\n",
    "\n",
    "while users_number != imagined_number:\n",
    "   users_number = int(input(\"Guess a number between 1 and 5: \"))\n",
    "\n",
    "print(\"Congrats! You guessed the number, it was \", users_number)"
   ]
  }
 ],
 "metadata": {
  "kernelspec": {
   "display_name": "Python 3",
   "language": "python",
   "name": "python3"
  },
  "language_info": {
   "codemirror_mode": {
    "name": "ipython",
    "version": 3
   },
   "file_extension": ".py",
   "mimetype": "text/x-python",
   "name": "python",
   "nbconvert_exporter": "python",
   "pygments_lexer": "ipython3",
   "version": "3.11.9"
  }
 },
 "nbformat": 4,
 "nbformat_minor": 2
}
