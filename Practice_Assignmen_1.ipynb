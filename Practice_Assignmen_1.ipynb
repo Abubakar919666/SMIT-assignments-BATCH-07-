{
 "cells": [
  {
   "cell_type": "markdown",
   "metadata": {
    "id": "CUdxU51J52Jc"
   },
   "source": [
    "# Topic: print()"
   ]
  },
  {
   "cell_type": "markdown",
   "metadata": {
    "id": "O4XtVMeN52Ji"
   },
   "source": [
    "1) Using the python print function print any string value, integer value, boolean value, float value in single print command"
   ]
  },
  {
   "cell_type": "code",
   "execution_count": 1,
   "metadata": {},
   "outputs": [
    {
     "name": "stdout",
     "output_type": "stream",
     "text": [
      "abc 134 True 3.44\n"
     ]
    }
   ],
   "source": [
    "print(\"abc\",134,True,3.44)"
   ]
  },
  {
   "cell_type": "markdown",
   "metadata": {
    "id": "iNinlTd052Jr"
   },
   "source": [
    "2) Using the python print function print hyphon(-) separated any string value, integer value, boolean value, float value in single print command"
   ]
  },
  {
   "cell_type": "code",
   "execution_count": 4,
   "metadata": {},
   "outputs": [
    {
     "name": "stdout",
     "output_type": "stream",
     "text": [
      "abc-134-True-3.44\n"
     ]
    }
   ],
   "source": [
    "print(\"abc\",134,True,3.44,sep=\"-\")"
   ]
  },
  {
   "cell_type": "markdown",
   "metadata": {
    "id": "4fNVS99O52Jt"
   },
   "source": [
    "3) Using the python print function print any string value, integer value, boolean value, float value in separate print command.\n",
    "But every value must be space separated and in single line"
   ]
  },
  {
   "cell_type": "code",
   "execution_count": 2,
   "metadata": {},
   "outputs": [
    {
     "name": "stdout",
     "output_type": "stream",
     "text": [
      "hello!world 1234 True 0.1\n"
     ]
    }
   ],
   "source": [
    "print(\"hello!world\", end=\" \")\n",
    "print(1234, end=\" \")\n",
    "print(True, end=\" \")\n",
    "print(0.1)\n"
   ]
  },
  {
   "cell_type": "markdown",
   "metadata": {
    "id": "akEUFstT52Jv"
   },
   "source": [
    "4) Can a python print function take no value to print???\n"
   ]
  },
  {
   "cell_type": "code",
   "execution_count": 5,
   "metadata": {},
   "outputs": [
    {
     "name": "stdout",
     "output_type": "stream",
     "text": [
      "\n"
     ]
    }
   ],
   "source": [
    "print( )"
   ]
  },
  {
   "cell_type": "markdown",
   "metadata": {
    "id": "vFPOFKW_52Jx"
   },
   "source": [
    "# TOPIC :Variables in Python Operators"
   ]
  },
  {
   "cell_type": "markdown",
   "metadata": {
    "id": "AzBzVODl52Jy"
   },
   "source": [
    "5) One of my friends name is Mr. Ahmed. He is 30 years old.  He is a lawer by profession. He has done his bachelors in law in the year 2005. He is working with a reputable law firm 'The Himalya Associates' in Karachi since 2015.\n",
    "He is a handsome lawer with height of 5.10 feets and weight 70600g. His monthly income is Rs. 200k PKR.\n",
    "\n",
    "Note: Create variables from above text and also assign values from the text.  "
   ]
  },
  {
   "cell_type": "code",
   "execution_count": 5,
   "metadata": {},
   "outputs": [
    {
     "name": "stdout",
     "output_type": "stream",
     "text": [
      "friends Name: Mr. Ahmed\n",
      "age: 30\n",
      "profession: lawer\n",
      "Bachelors Year: 2005\n",
      "Firm Name: 'The Himalya Associates'\n",
      "Year Experience: 2015\n",
      "Height in feet: 5.1\n",
      "Height in Grams 70600\n",
      "monthly_income 200000\n"
     ]
    }
   ],
   "source": [
    "friend_name = \"Mr. Ahmed\"\n",
    "age = 30\n",
    "profession = \"lawer\"\n",
    "bachelors_year = 2005\n",
    "firm_name = \"'The Himalya Associates'\"\n",
    "year_exp = 2015\n",
    "height_feet = 5.10\n",
    "height_gram = 70600\n",
    "monthly_income = 200000\n",
    "\n",
    "print(\"friends Name:\" ,friend_name)\n",
    "print(\"age:\", age)\n",
    "print(\"profession:\",profession)\n",
    "print(\"Bachelors Year:\", bachelors_year)\n",
    "print(\"Firm Name:\", firm_name)\n",
    "print(\"Year Experience:\", year_exp)\n",
    "print(\"Height in feet:\", height_feet)\n",
    "print(\"Height in Grams\", height_gram)\n",
    "print(\"monthly_income\", monthly_income)"
   ]
  },
  {
   "cell_type": "markdown",
   "metadata": {
    "id": "Uaf--v5S52J0"
   },
   "source": [
    "6)How many years has been to Mr. Ahmed after his bachelors degree? Create a variable that hold current year value and then subtract it from his passout year"
   ]
  },
  {
   "cell_type": "code",
   "execution_count": 1,
   "metadata": {},
   "outputs": [
    {
     "name": "stdout",
     "output_type": "stream",
     "text": [
      "Year of Completed bachelors degree: 19\n"
     ]
    }
   ],
   "source": [
    "current_year = 2024\n",
    "passout_year = 2005\n",
    "\n",
    "print(\"Year of Completed bachelors degree:\", current_year - passout_year)"
   ]
  },
  {
   "cell_type": "markdown",
   "metadata": {
    "id": "SAQtVyvD52J1"
   },
   "source": [
    "7) How many years has Mr. Ahmed been working with law firm 'The Himalya Associates'. Create necesary variables and print the correct number of years in working in the firm"
   ]
  },
  {
   "cell_type": "code",
   "execution_count": 10,
   "metadata": {},
   "outputs": [
    {
     "name": "stdout",
     "output_type": "stream",
     "text": [
      "Mr. Ahmed been working with law firm 'The Himalya Associates' 9 years.\n"
     ]
    }
   ],
   "source": [
    "current_year = 2024\n",
    "start_year = 2015\n",
    "\n",
    "print(f\"Mr. Ahmed been working with law firm 'The Himalya Associates' {current_year - start_year} years.\")"
   ]
  },
  {
   "cell_type": "markdown",
   "metadata": {
    "id": "Gnk1kIUj52J3"
   },
   "source": [
    "8)Convert the monthly income of Mr. Ahmed in dollars.  Create necesary variables and print the income in dollars."
   ]
  },
  {
   "cell_type": "code",
   "execution_count": 4,
   "metadata": {},
   "outputs": [
    {
     "name": "stdout",
     "output_type": "stream",
     "text": [
      "monthly income of Mr. Ahmed in dollars 719.42\n"
     ]
    }
   ],
   "source": [
    "income_rupees = 200000\n",
    "doller_pkr = 278.90\n",
    "income_dollar = 200000 / 278\n",
    "print(f\"monthly income of Mr. Ahmed in dollars {income_dollar:.2f}\")"
   ]
  },
  {
   "cell_type": "markdown",
   "metadata": {
    "id": "Adx4oblF52J4"
   },
   "source": [
    "9) Check if the income in dollars is a float or integer value. if it is float, re-write the code so that income gets converted in integer. print the income in integer type value"
   ]
  },
  {
   "cell_type": "code",
   "execution_count": 4,
   "metadata": {},
   "outputs": [
    {
     "name": "stdout",
     "output_type": "stream",
     "text": [
      "re-write income in integer 719\n",
      "re-write income in integer 719.4244604316547\n"
     ]
    }
   ],
   "source": [
    "print(f\"re-write income in integer {int(income_dollar)}\")\n",
    "print(f\"re-write income in integer {float(income_dollar)}\")"
   ]
  },
  {
   "cell_type": "markdown",
   "metadata": {},
   "source": [
    "10) Print the type of Mr. Ahmed's weight. Convert the weight of Mr. Ahmed in kg so that weight must be a integer value."
   ]
  },
  {
   "cell_type": "code",
   "execution_count": 7,
   "metadata": {},
   "outputs": [
    {
     "name": "stdout",
     "output_type": "stream",
     "text": [
      "type of Mr. Ahmed's weight<class 'int'>\n",
      "70.6\n",
      "<class 'int'>\n"
     ]
    }
   ],
   "source": [
    "ahmed_weight = 70600\n",
    "print(f\"type of Mr. Ahmed's weight{type(ahmed_weight)}\")\n",
    "weight_kg = 70600 / 1000\n",
    "print(weight_kg)\n",
    "weight_int = int(weight_kg)\n",
    "print(type(weight_int))"
   ]
  },
  {
   "cell_type": "markdown",
   "metadata": {},
   "source": [
    "11) print the year of birth of Mr. Ahmed.\n",
    "    "
   ]
  },
  {
   "cell_type": "code",
   "execution_count": 12,
   "metadata": {
    "id": "05FU1XHw52J7"
   },
   "outputs": [
    {
     "name": "stdout",
     "output_type": "stream",
     "text": [
      "Mr.Ahmed birth year 1994\n"
     ]
    }
   ],
   "source": [
    "birth_year = current_year - 30\n",
    "print(f\"Mr.Ahmed birth year {birth_year}\")"
   ]
  },
  {
   "cell_type": "markdown",
   "metadata": {
    "id": "eWySSgh552J8"
   },
   "source": [
    "12) Can Rs. 100 be divided equally among 6 students?\n",
    "HINT: % operator (modulo)"
   ]
  },
  {
   "cell_type": "code",
   "execution_count": 16,
   "metadata": {
    "id": "RYc0Ks7g52J-",
    "outputId": "0e2425ca-fbed-4c24-b659-e52ef2d0674e"
   },
   "outputs": [
    {
     "name": "stdout",
     "output_type": "stream",
     "text": [
      "the amount 4 can't divided equally amoung students\n"
     ]
    }
   ],
   "source": [
    "amount = 100\n",
    "student = 6\n",
    "print(f\"the amount {amount % student} can't divided equally amoung students\")"
   ]
  }
 ],
 "metadata": {
  "colab": {
   "provenance": []
  },
  "kernelspec": {
   "display_name": "base",
   "language": "python",
   "name": "python3"
  },
  "language_info": {
   "codemirror_mode": {
    "name": "ipython",
    "version": 3
   },
   "file_extension": ".py",
   "mimetype": "text/x-python",
   "name": "python",
   "nbconvert_exporter": "python",
   "pygments_lexer": "ipython3",
   "version": "3.12.7"
  }
 },
 "nbformat": 4,
 "nbformat_minor": 1
}
